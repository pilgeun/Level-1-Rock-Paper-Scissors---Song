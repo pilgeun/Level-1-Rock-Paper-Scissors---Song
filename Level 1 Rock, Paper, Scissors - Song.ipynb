{
 "cells": [
  {
   "cell_type": "code",
   "execution_count": null,
   "metadata": {},
   "outputs": [],
   "source": [
    "import random as rand\n",
    "\n",
    "def com_rps (): # generate 1, 2, or 3, then convert to hand, \"com_rps\" stands for \"computer rock-paper-scissor\"\n",
    "    random_number = rand.randint(1,3)\n",
    "    hand = \"\"\n",
    "    if random_number == 1:\n",
    "        hand = \"rock\"\n",
    "    elif random_number == 2:\n",
    "        hand = \"paper\"\n",
    "    elif random_number == 3:\n",
    "        hand = \"scissor\"\n",
    "    return hand\n",
    "\n",
    "def showdown (you, computer): # compare user and computer choice\n",
    "    if you == computer:\n",
    "        print(\"It's a draw.\")\n",
    "    \n",
    "    elif you == \"rock\" and computer == \"scissor\" or you == \"paper\" and computer == \"rock\" or you == \"scissor\" and computer == \"paper\":\n",
    "        print(\"You win!\")\n",
    "        \n",
    "    else :\n",
    "        print(\"You lose.\")\n",
    "\n",
    "user_choice = \"\"\n",
    "computer_choice = \"\"        \n",
    "again = \"\"\n",
    "\n",
    "while again != 'n':\n",
    "    computer_choice = com_rps()\n",
    "    \n",
    "    user_choice = \"\" # reset user input\n",
    "    \n",
    "    while user_choice!='rock' and user_choice!='paper' and user_choice!='scissor':\n",
    "        user_choice = input(\"Choose rock, paper, or scissor: \")\n",
    "        user_choice = user_choice.lower()\n",
    "   \n",
    "    showdown(user_choice, computer_choice)\n",
    "    \n",
    "    again = input(\"Would you like to play again? (y/n): \")\n",
    "    "
   ]
  }
 ],
 "metadata": {
  "kernelspec": {
   "display_name": "Python 3",
   "language": "python",
   "name": "python3"
  },
  "language_info": {
   "codemirror_mode": {
    "name": "ipython",
    "version": 3
   },
   "file_extension": ".py",
   "mimetype": "text/x-python",
   "name": "python",
   "nbconvert_exporter": "python",
   "pygments_lexer": "ipython3",
   "version": "3.8.3"
  }
 },
 "nbformat": 4,
 "nbformat_minor": 4
}
